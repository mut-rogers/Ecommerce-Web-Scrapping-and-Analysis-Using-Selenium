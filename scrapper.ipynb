{
 "cells": [
  {
   "cell_type": "code",
   "execution_count": 78,
   "metadata": {},
   "outputs": [],
   "source": [
    "from selenium import webdriver \n",
    "from selenium.webdriver.chrome.service import Service\n",
    "from selenium.webdriver.support import expected_conditions as EC\n",
    "from selenium.webdriver.support.ui import WebDriverWait \n",
    "from selenium.webdriver.common.by import By \n",
    "from selenium.webdriver.chrome.options import Options\n",
    "\n",
    "from bs4 import BeautifulSoup\n",
    "\n",
    "# Plotting \n",
    "import matplotlib.pyplot as plt \n",
    "import seaborn as sns\n",
    "sns.set_palette(\"husl\", n_colors=5)  \n",
    "\n",
    "# Automates downloading and setting up of Chrome Driver\n",
    "from webdriver_manager.chrome import ChromeDriverManager\n",
    "\n",
    "import pandas as pd\n",
    "\n",
    "import re \n",
    "\n",
    "import os"
   ]
  },
  {
   "cell_type": "code",
   "execution_count": 59,
   "metadata": {},
   "outputs": [],
   "source": [
    "# A dict of product categories and product category ID that \n",
    "# we shall be scrapping. They will be dynamically inserted on the BASE_URL\n",
    "PRODUCT_CATEGORIES = {\n",
    "    \"167\": \"clothes\",\n",
    "    \"1\": \"bags\",\n",
    "    \"100000359\": \"appliances\",\n",
    "    \"2381\": \"home-kitchen\",\n",
    "    \"2069\": \"tvaudiovideo\",\n",
    "    \"872\": \"phones-accessories\",\n",
    "    \"482\": \"health-beauty\",\n",
    "    \"38\": \"watches-jewellery\",\n",
    "    \"349\": \"computers-accessories\",\n",
    "    \"1211\": \"kids-baby-products\",\n",
    "    \"100000592\": \"automotive\",\n",
    "\n",
    "}\n",
    "\n",
    "# URL for the website.\n",
    "# product category and web page number will change on demand\n",
    "BASE_URL = \"https://www.kilimall.co.ke/category/{}?id={}&form=category&page={}\""
   ]
  },
  {
   "cell_type": "code",
   "execution_count": 60,
   "metadata": {},
   "outputs": [],
   "source": [
    "def scrape_page(driver, current_url: str, product_category: str) -> list: \n",
    "    \"\"\"    \n",
    "    This functions scrapes a single webpage in a paginated website. \n",
    "\n",
    "    Args: \n",
    "        driver: a webdriver oject\n",
    "        current_url: the url that will be visited by the driver\n",
    "\n",
    "    Returns: \n",
    "        List of products scraped from a single page/current_url\n",
    "    \"\"\" \n",
    "\n",
    "    driver.get(current_url) # Visit the web page \n",
    "\n",
    "    # wait for the page to fully load\n",
    "    wait = WebDriverWait(driver, 4)\n",
    "    wait.until(EC.presence_of_element_located((By.TAG_NAME, \"body\"))) \n",
    "\n",
    "    html_content = driver.page_source # Access the HTML source \n",
    "    \n",
    "    soup = BeautifulSoup(html_content, \"html.parser\") # Parse using Beautiful Soup \n",
    "\n",
    "    products_wrapper = soup.find_all(\"div\", {\"class\": \"listing-item\"}) # Access the products container \n",
    "\n",
    "    all_scrapped_products = list()\n",
    "\n",
    "    # Loop through the products_wrapper to access each product cantainer\n",
    "    # Then extract the prodcut information \n",
    "    for product in products_wrapper:\n",
    "\n",
    "        product_name = product.find(\"p\", {\"class\": \"product-title\"}).text \n",
    "\n",
    "        product_price = product.find(\"div\", {\"class\": \"product-price\"}).text\n",
    "\n",
    "        num_reviews = product.find(\"span\", {\"class\": \"reviews\"}).text\n",
    "\n",
    "        product_source = product.find(\"span\", {\"class\": \"tag-name\"}).text # Where the product was sourced: Locally or Shipped\n",
    "        \n",
    "        # Wrap the produce in a dictionary and append to the list\n",
    "        scrapped_product_dict = {\n",
    "            \"product_name\": product_name,\n",
    "            \"product_price\": product_price,\n",
    "            \"number_of_reviews\": num_reviews,\n",
    "            \"product_category\": product_category,\n",
    "            \"product_source\": product_source,\n",
    "        }\n",
    "         \n",
    "        all_scrapped_products.append(scrapped_product_dict) \n",
    "\n",
    "    return all_scrapped_products  "
   ]
  },
  {
   "cell_type": "code",
   "execution_count": 61,
   "metadata": {},
   "outputs": [],
   "source": [
    "def main(BASE_URL: str, num_pages: str): \n",
    "    \"\"\"   \n",
    "    This is the main function that will be used to scrape the entire website. \n",
    "\n",
    "    Args: \n",
    "        BASE_URL: The url of the website to be scrapped. Contains the URL that will dynamically change due to pagination and search parameters such as product category \n",
    "\n",
    "        num_pages: The number of pages to be scrapped on the specified website.\n",
    "     \n",
    "    Returns: \n",
    "        A final list containing a dictionary of products scrapped from the entire website\n",
    "    \"\"\" \n",
    "\n",
    "    # Set up the use of headless Chrome - No UI \n",
    "    chrome_browser_options = Options()\n",
    "    chrome_browser_options.add_argument(\"--headless\")\n",
    "\n",
    "    service = Service(ChromeDriverManager().install()) # Set up Chrome driver\n",
    "\n",
    "    driver = webdriver.Chrome(service=service, options=chrome_browser_options) # Create a webdriver object\n",
    "\n",
    "    current_page_nummber = 1 # Page Counter. Tracks the current web page being scrapped\n",
    "\n",
    "    all_products = list() # list of dicts To store the scrapped products\n",
    "\n",
    "    print(\"SCRAPPING ACTIVITY STARTED...\\n################################\\n\")\n",
    "\n",
    "    for category_id, category_name in PRODUCT_CATEGORIES.items(): # Scrapping each product category at a time\n",
    "        \n",
    "        print(\"Scrapping {} Section\".format(category_name.capitalize()))\n",
    "\n",
    "        while current_page_nummber <= num_pages: # Ensure we don't access pages out of range\n",
    "\n",
    "            current_url = BASE_URL.format(category_name, category_id, current_page_nummber) \n",
    "\n",
    "            current_products_sublist = scrape_page(driver, current_url, category_name) \n",
    "\n",
    "            all_products.extend(current_products_sublist) # Add this products to the final list of products\n",
    "\n",
    "            current_page_nummber += 1 # Update the counter to next page\n",
    "\n",
    "        current_page_nummber = 1 # Reset the count after switching to new product categories\n",
    "\n",
    "    driver.quit() # Close the driver once done \n",
    "    print(\"\\nScrapping Ended\")\n",
    "\n",
    "    return all_products"
   ]
  },
  {
   "cell_type": "code",
   "execution_count": 62,
   "metadata": {},
   "outputs": [
    {
     "name": "stdout",
     "output_type": "stream",
     "text": [
      "SCRAPPING ACTIVITY STARTED...\n",
      "################################\n",
      "\n",
      "Scrapping Clothes Section\n",
      "Scrapping Bags Section\n",
      "Scrapping Appliances Section\n",
      "Scrapping Home-kitchen Section\n",
      "Scrapping Tvaudiovideo Section\n",
      "Scrapping Phones-accessories Section\n",
      "Scrapping Health-beauty Section\n",
      "Scrapping Watches-jewellery Section\n",
      "Scrapping Computers-accessories Section\n",
      "Scrapping Kids-baby-products Section\n",
      "Scrapping Automotive Section\n",
      "\n",
      "Scrapping Ended\n",
      "\n",
      "####___Moving the scrapped products to a dataframe\n"
     ]
    }
   ],
   "source": [
    "if __name__ == \"__main__\":\n",
    "\n",
    "    # Access all the products scrapped and put them in dataframe\n",
    "    final_products_list = main(BASE_URL, 2) \n",
    "    \n",
    "    print(\"\\n####___Moving the scrapped products to a dataframe\")\n",
    "    products_df = pd.DataFrame(final_products_list)\n",
    "\n",
    "    products_df.head()"
   ]
  },
  {
   "cell_type": "code",
   "execution_count": 63,
   "metadata": {},
   "outputs": [
    {
     "data": {
      "text/html": [
       "<div>\n",
       "<style scoped>\n",
       "    .dataframe tbody tr th:only-of-type {\n",
       "        vertical-align: middle;\n",
       "    }\n",
       "\n",
       "    .dataframe tbody tr th {\n",
       "        vertical-align: top;\n",
       "    }\n",
       "\n",
       "    .dataframe thead th {\n",
       "        text-align: right;\n",
       "    }\n",
       "</style>\n",
       "<table border=\"1\" class=\"dataframe\">\n",
       "  <thead>\n",
       "    <tr style=\"text-align: right;\">\n",
       "      <th></th>\n",
       "      <th>product_name</th>\n",
       "      <th>product_price</th>\n",
       "      <th>number_of_reviews</th>\n",
       "      <th>product_category</th>\n",
       "      <th>product_source</th>\n",
       "    </tr>\n",
       "  </thead>\n",
       "  <tbody>\n",
       "    <tr>\n",
       "      <th>0</th>\n",
       "      <td>2pcs/Set Sexy lace Women Nightwear Nightgowns ...</td>\n",
       "      <td>KSh 699</td>\n",
       "      <td>(1646)</td>\n",
       "      <td>clothes</td>\n",
       "      <td>Fulfilled By Kilimall</td>\n",
       "    </tr>\n",
       "    <tr>\n",
       "      <th>1</th>\n",
       "      <td>SXCHEN New Men's Shorts Casual Sports Five-poi...</td>\n",
       "      <td>KSh 539</td>\n",
       "      <td>(598)</td>\n",
       "      <td>clothes</td>\n",
       "      <td>Fulfilled By Kilimall</td>\n",
       "    </tr>\n",
       "    <tr>\n",
       "      <th>2</th>\n",
       "      <td>Waist Trainer Slimming Belt Slim Body Shaper C...</td>\n",
       "      <td>KSh 259</td>\n",
       "      <td>(1423)</td>\n",
       "      <td>clothes</td>\n",
       "      <td>Fulfilled By Kilimall</td>\n",
       "    </tr>\n",
       "    <tr>\n",
       "      <th>3</th>\n",
       "      <td>Waist Trainer Slimming Belt Slim Body Shaper C...</td>\n",
       "      <td>KSh 379</td>\n",
       "      <td>(5777)</td>\n",
       "      <td>clothes</td>\n",
       "      <td>Fulfilled By Kilimall</td>\n",
       "    </tr>\n",
       "    <tr>\n",
       "      <th>4</th>\n",
       "      <td>2024  Women's Pajamas Satin The Big Size Long ...</td>\n",
       "      <td>KSh 899</td>\n",
       "      <td>(214)</td>\n",
       "      <td>clothes</td>\n",
       "      <td>Fulfilled By Kilimall</td>\n",
       "    </tr>\n",
       "  </tbody>\n",
       "</table>\n",
       "</div>"
      ],
      "text/plain": [
       "                                        product_name product_price  \\\n",
       "0  2pcs/Set Sexy lace Women Nightwear Nightgowns ...       KSh 699   \n",
       "1  SXCHEN New Men's Shorts Casual Sports Five-poi...       KSh 539   \n",
       "2  Waist Trainer Slimming Belt Slim Body Shaper C...       KSh 259   \n",
       "3  Waist Trainer Slimming Belt Slim Body Shaper C...       KSh 379   \n",
       "4  2024  Women's Pajamas Satin The Big Size Long ...       KSh 899   \n",
       "\n",
       "  number_of_reviews product_category         product_source  \n",
       "0            (1646)          clothes  Fulfilled By Kilimall  \n",
       "1             (598)          clothes  Fulfilled By Kilimall  \n",
       "2            (1423)          clothes  Fulfilled By Kilimall  \n",
       "3            (5777)          clothes  Fulfilled By Kilimall  \n",
       "4             (214)          clothes  Fulfilled By Kilimall  "
      ]
     },
     "execution_count": 63,
     "metadata": {},
     "output_type": "execute_result"
    }
   ],
   "source": [
    "# Overview of the dataset\n",
    "products_df.head()"
   ]
  },
  {
   "cell_type": "code",
   "execution_count": 64,
   "metadata": {},
   "outputs": [],
   "source": [
    "# create a folder for data storage \n",
    "if not os.path.exists(\"data\"):\n",
    "    os.makedirs(\"data\")\n",
    "\n",
    "# Store the raw data into a CSV \n",
    "products_df.to_csv(\"data/raw_kilimall_product_data.csv\", index=False)"
   ]
  },
  {
   "cell_type": "code",
   "execution_count": 65,
   "metadata": {},
   "outputs": [
    {
     "data": {
      "text/html": [
       "<div>\n",
       "<style scoped>\n",
       "    .dataframe tbody tr th:only-of-type {\n",
       "        vertical-align: middle;\n",
       "    }\n",
       "\n",
       "    .dataframe tbody tr th {\n",
       "        vertical-align: top;\n",
       "    }\n",
       "\n",
       "    .dataframe thead th {\n",
       "        text-align: right;\n",
       "    }\n",
       "</style>\n",
       "<table border=\"1\" class=\"dataframe\">\n",
       "  <thead>\n",
       "    <tr style=\"text-align: right;\">\n",
       "      <th></th>\n",
       "      <th>product_name</th>\n",
       "      <th>product_price</th>\n",
       "      <th>number_of_reviews</th>\n",
       "      <th>product_category</th>\n",
       "      <th>product_source</th>\n",
       "    </tr>\n",
       "  </thead>\n",
       "  <tbody>\n",
       "    <tr>\n",
       "      <th>0</th>\n",
       "      <td>2pcs/Set Sexy lace Women Nightwear Nightgowns ...</td>\n",
       "      <td>699</td>\n",
       "      <td>1646</td>\n",
       "      <td>clothes</td>\n",
       "      <td>Fulfilled By Kilimall</td>\n",
       "    </tr>\n",
       "    <tr>\n",
       "      <th>1</th>\n",
       "      <td>SXCHEN New Men's Shorts Casual Sports Five-poi...</td>\n",
       "      <td>539</td>\n",
       "      <td>598</td>\n",
       "      <td>clothes</td>\n",
       "      <td>Fulfilled By Kilimall</td>\n",
       "    </tr>\n",
       "    <tr>\n",
       "      <th>2</th>\n",
       "      <td>Waist Trainer Slimming Belt Slim Body Shaper C...</td>\n",
       "      <td>259</td>\n",
       "      <td>1423</td>\n",
       "      <td>clothes</td>\n",
       "      <td>Fulfilled By Kilimall</td>\n",
       "    </tr>\n",
       "    <tr>\n",
       "      <th>3</th>\n",
       "      <td>Waist Trainer Slimming Belt Slim Body Shaper C...</td>\n",
       "      <td>379</td>\n",
       "      <td>5777</td>\n",
       "      <td>clothes</td>\n",
       "      <td>Fulfilled By Kilimall</td>\n",
       "    </tr>\n",
       "    <tr>\n",
       "      <th>4</th>\n",
       "      <td>2024  Women's Pajamas Satin The Big Size Long ...</td>\n",
       "      <td>899</td>\n",
       "      <td>214</td>\n",
       "      <td>clothes</td>\n",
       "      <td>Fulfilled By Kilimall</td>\n",
       "    </tr>\n",
       "  </tbody>\n",
       "</table>\n",
       "</div>"
      ],
      "text/plain": [
       "                                        product_name  product_price  \\\n",
       "0  2pcs/Set Sexy lace Women Nightwear Nightgowns ...            699   \n",
       "1  SXCHEN New Men's Shorts Casual Sports Five-poi...            539   \n",
       "2  Waist Trainer Slimming Belt Slim Body Shaper C...            259   \n",
       "3  Waist Trainer Slimming Belt Slim Body Shaper C...            379   \n",
       "4  2024  Women's Pajamas Satin The Big Size Long ...            899   \n",
       "\n",
       "   number_of_reviews product_category         product_source  \n",
       "0               1646          clothes  Fulfilled By Kilimall  \n",
       "1                598          clothes  Fulfilled By Kilimall  \n",
       "2               1423          clothes  Fulfilled By Kilimall  \n",
       "3               5777          clothes  Fulfilled By Kilimall  \n",
       "4                214          clothes  Fulfilled By Kilimall  "
      ]
     },
     "execution_count": 65,
     "metadata": {},
     "output_type": "execute_result"
    }
   ],
   "source": [
    "# Doing some data cleaning \n",
    "\n",
    "# products_price, number_of_reviews should be formated as ints\n",
    "# With special characters, whitespaces, and braces removed \n",
    "products_df[\"product_price\"] = products_df.product_price.str.replace(\"Ksh \", \"\", regex=True, flags=re.IGNORECASE).str.replace(\",\",\"\").astype(\"int\")\n",
    "\n",
    "products_df[\"number_of_reviews\"] = products_df.number_of_reviews.str.strip(\"()\").astype(\"int\")\n",
    "\n",
    "products_df.head()"
   ]
  },
  {
   "cell_type": "code",
   "execution_count": 66,
   "metadata": {},
   "outputs": [
    {
     "name": "stdout",
     "output_type": "stream",
     "text": [
      "<class 'pandas.core.frame.DataFrame'>\n",
      "RangeIndex: 792 entries, 0 to 791\n",
      "Data columns (total 5 columns):\n",
      " #   Column             Non-Null Count  Dtype \n",
      "---  ------             --------------  ----- \n",
      " 0   product_name       792 non-null    object\n",
      " 1   product_price      792 non-null    int64 \n",
      " 2   number_of_reviews  792 non-null    int64 \n",
      " 3   product_category   792 non-null    object\n",
      " 4   product_source     792 non-null    object\n",
      "dtypes: int64(2), object(3)\n",
      "memory usage: 31.1+ KB\n"
     ]
    }
   ],
   "source": [
    "products_df.info()"
   ]
  },
  {
   "cell_type": "code",
   "execution_count": null,
   "metadata": {},
   "outputs": [],
   "source": [
    "# Move the cleaned dataset to a CSV file \n",
    "products_df.to_csv(\"data/cleaned_kilimall_products_data\")"
   ]
  },
  {
   "cell_type": "code",
   "execution_count": 77,
   "metadata": {},
   "outputs": [
    {
     "data": {
      "text/plain": [
       "Text(0.5, 1.0, 'Average Prices by Product Category')"
      ]
     },
     "execution_count": 77,
     "metadata": {},
     "output_type": "execute_result"
    },
    {
     "data": {
      "image/png": "[encoded data removed]",
      "text/plain": [
       "<Figure size 640x480 with 1 Axes>"
      ]
     },
     "metadata": {},
     "output_type": "display_data"
    }
   ],
   "source": [
    "# Simple analysis such as trend, and average \n",
    "# prices will also be done as below \n",
    "\n",
    "# average prices for each product category \n",
    "average_prices_by_category = products_df.groupby(\"product_category\").product_price.mean().reset_index().sort_values(\"product_price\", ascending=False)\n",
    "\n",
    "sns.barplot(average_prices_by_category, x=\"product_price\", y=\"product_category\")\n",
    "plt.title(\"Average Prices by Product Category\")"
   ]
  },
  {
   "cell_type": "code",
   "execution_count": 81,
   "metadata": {},
   "outputs": [
    {
     "data": {
      "text/html": [
       "<div>\n",
       "<style scoped>\n",
       "    .dataframe tbody tr th:only-of-type {\n",
       "        vertical-align: middle;\n",
       "    }\n",
       "\n",
       "    .dataframe tbody tr th {\n",
       "        vertical-align: top;\n",
       "    }\n",
       "\n",
       "    .dataframe thead th {\n",
       "        text-align: right;\n",
       "    }\n",
       "</style>\n",
       "<table border=\"1\" class=\"dataframe\">\n",
       "  <thead>\n",
       "    <tr style=\"text-align: right;\">\n",
       "      <th></th>\n",
       "      <th>product_name</th>\n",
       "      <th>product_price</th>\n",
       "      <th>number_of_reviews</th>\n",
       "      <th>product_category</th>\n",
       "      <th>product_source</th>\n",
       "    </tr>\n",
       "  </thead>\n",
       "  <tbody>\n",
       "    <tr>\n",
       "      <th>203</th>\n",
       "      <td>Hisense 9KG  Front Load Washing Machine 1400RM...</td>\n",
       "      <td>55999</td>\n",
       "      <td>26</td>\n",
       "      <td>appliances</td>\n",
       "      <td>Fulfilled By Kilimall</td>\n",
       "    </tr>\n",
       "    <tr>\n",
       "      <th>200</th>\n",
       "      <td>HeroEE1 Portable mega Powerbank  Station solar...</td>\n",
       "      <td>33999</td>\n",
       "      <td>14</td>\n",
       "      <td>appliances</td>\n",
       "      <td>Fulfilled By Kilimall</td>\n",
       "    </tr>\n",
       "    <tr>\n",
       "      <th>610</th>\n",
       "      <td>Brand new Chuwi Gemibook XPro N100 ultrabook: ...</td>\n",
       "      <td>32222</td>\n",
       "      <td>36</td>\n",
       "      <td>computers-accessories</td>\n",
       "      <td>Fulfilled By Kilimall</td>\n",
       "    </tr>\n",
       "    <tr>\n",
       "      <th>198</th>\n",
       "      <td>【New Year Sale】Volsmart 138L Double Doors Refr...</td>\n",
       "      <td>25599</td>\n",
       "      <td>8</td>\n",
       "      <td>appliances</td>\n",
       "      <td>Local Dispatch</td>\n",
       "    </tr>\n",
       "    <tr>\n",
       "      <th>182</th>\n",
       "      <td>Volsmart 138L Fridge Freezer VL-BCD138 Energy ...</td>\n",
       "      <td>25299</td>\n",
       "      <td>158</td>\n",
       "      <td>appliances</td>\n",
       "      <td>Fulfilled By Kilimall</td>\n",
       "    </tr>\n",
       "  </tbody>\n",
       "</table>\n",
       "</div>"
      ],
      "text/plain": [
       "                                          product_name  product_price  \\\n",
       "203  Hisense 9KG  Front Load Washing Machine 1400RM...          55999   \n",
       "200  HeroEE1 Portable mega Powerbank  Station solar...          33999   \n",
       "610  Brand new Chuwi Gemibook XPro N100 ultrabook: ...          32222   \n",
       "198  【New Year Sale】Volsmart 138L Double Doors Refr...          25599   \n",
       "182  Volsmart 138L Fridge Freezer VL-BCD138 Energy ...          25299   \n",
       "\n",
       "     number_of_reviews       product_category         product_source  \n",
       "203                 26             appliances  Fulfilled By Kilimall  \n",
       "200                 14             appliances  Fulfilled By Kilimall  \n",
       "610                 36  computers-accessories  Fulfilled By Kilimall  \n",
       "198                  8             appliances         Local Dispatch  \n",
       "182                158             appliances  Fulfilled By Kilimall  "
      ]
     },
     "execution_count": 81,
     "metadata": {},
     "output_type": "execute_result"
    }
   ],
   "source": [
    "# Top three most expensive product on the platform \n",
    "products_df.sort_values(\"product_price\", ascending=False).head()"
   ]
  },
  {
   "cell_type": "code",
   "execution_count": 82,
   "metadata": {},
   "outputs": [
    {
     "data": {
      "text/html": [
       "<div>\n",
       "<style scoped>\n",
       "    .dataframe tbody tr th:only-of-type {\n",
       "        vertical-align: middle;\n",
       "    }\n",
       "\n",
       "    .dataframe tbody tr th {\n",
       "        vertical-align: top;\n",
       "    }\n",
       "\n",
       "    .dataframe thead th {\n",
       "        text-align: right;\n",
       "    }\n",
       "</style>\n",
       "<table border=\"1\" class=\"dataframe\">\n",
       "  <thead>\n",
       "    <tr style=\"text-align: right;\">\n",
       "      <th></th>\n",
       "      <th>product_name</th>\n",
       "      <th>product_price</th>\n",
       "      <th>number_of_reviews</th>\n",
       "      <th>product_category</th>\n",
       "      <th>product_source</th>\n",
       "    </tr>\n",
       "  </thead>\n",
       "  <tbody>\n",
       "    <tr>\n",
       "      <th>728</th>\n",
       "      <td>High Quality Black Keyring   Car Keychain Set ...</td>\n",
       "      <td>79</td>\n",
       "      <td>66</td>\n",
       "      <td>automotive</td>\n",
       "      <td>Fulfilled By Kilimall</td>\n",
       "    </tr>\n",
       "    <tr>\n",
       "      <th>711</th>\n",
       "      <td>Vacuum cup baby bottle sponge brush cleaner bo...</td>\n",
       "      <td>79</td>\n",
       "      <td>2</td>\n",
       "      <td>kids-baby-products</td>\n",
       "      <td>Local Dispatch</td>\n",
       "    </tr>\n",
       "    <tr>\n",
       "      <th>609</th>\n",
       "      <td>PAFEL HD 1080P VGA to VGA 1.5M Cable Adapter M...</td>\n",
       "      <td>99</td>\n",
       "      <td>32</td>\n",
       "      <td>computers-accessories</td>\n",
       "      <td>Fulfilled By Kilimall</td>\n",
       "    </tr>\n",
       "    <tr>\n",
       "      <th>597</th>\n",
       "      <td>PAFEL CAT6 3M Enhanced Ethernet Cable LAN Cabl...</td>\n",
       "      <td>99</td>\n",
       "      <td>18</td>\n",
       "      <td>computers-accessories</td>\n",
       "      <td>Fulfilled By Kilimall</td>\n",
       "    </tr>\n",
       "    <tr>\n",
       "      <th>196</th>\n",
       "      <td>Protective Ironing Scorch Mesh Cloth(90*40cm)</td>\n",
       "      <td>105</td>\n",
       "      <td>2</td>\n",
       "      <td>appliances</td>\n",
       "      <td>Fulfilled By Kilimall</td>\n",
       "    </tr>\n",
       "  </tbody>\n",
       "</table>\n",
       "</div>"
      ],
      "text/plain": [
       "                                          product_name  product_price  \\\n",
       "728  High Quality Black Keyring   Car Keychain Set ...             79   \n",
       "711  Vacuum cup baby bottle sponge brush cleaner bo...             79   \n",
       "609  PAFEL HD 1080P VGA to VGA 1.5M Cable Adapter M...             99   \n",
       "597  PAFEL CAT6 3M Enhanced Ethernet Cable LAN Cabl...             99   \n",
       "196      Protective Ironing Scorch Mesh Cloth(90*40cm)            105   \n",
       "\n",
       "     number_of_reviews       product_category         product_source  \n",
       "728                 66             automotive  Fulfilled By Kilimall  \n",
       "711                  2     kids-baby-products         Local Dispatch  \n",
       "609                 32  computers-accessories  Fulfilled By Kilimall  \n",
       "597                 18  computers-accessories  Fulfilled By Kilimall  \n",
       "196                  2             appliances  Fulfilled By Kilimall  "
      ]
     },
     "execution_count": 82,
     "metadata": {},
     "output_type": "execute_result"
    }
   ],
   "source": [
    "# Cheapest products on the platform \n",
    "products_df.sort_values(\"product_price\", ascending=True).head()"
   ]
  },
  {
   "cell_type": "code",
   "execution_count": 87,
   "metadata": {},
   "outputs": [
    {
     "data": {
      "text/plain": [
       "Text(0.5, 1.0, 'Top Products by Engagement')"
      ]
     },
     "execution_count": 87,
     "metadata": {},
     "output_type": "execute_result"
    },
    {
     "data": {
      "image/png": "[encoded data removed]",
      "text/plain": [
       "<Figure size 640x480 with 1 Axes>"
      ]
     },
     "metadata": {},
     "output_type": "display_data"
    }
   ],
   "source": [
    "# Top products/product categories by engagement (reviews/ratings) \n",
    "top_products_by_engagement = products_df.groupby(\"product_category\").number_of_reviews.sum().reset_index().sort_values(\"number_of_reviews\", ascending=False)\n",
    "\n",
    "sns.barplot(top_products_by_engagement, x=\"number_of_reviews\", y=\"product_category\")\n",
    "plt.title(\"Top Products by Engagement\")"
   ]
  },
  {
   "cell_type": "code",
   "execution_count": null,
   "metadata": {},
   "outputs": [
    {
     "data": {
      "text/plain": [
       "<Axes: >"
      ]
     },
     "execution_count": 95,
     "metadata": {},
     "output_type": "execute_result"
    },
    {
     "data": {
      "image/png": "[encoded data removed]",
      "text/plain": [
       "<Figure size 640x480 with 2 Axes>"
      ]
     },
     "metadata": {},
     "output_type": "display_data"
    }
   ],
   "source": [
    "# Corelation between product prices and ratings/reviews \n",
    "\n",
    "product_reviews_df = products_df[[\"product_price\", \"number_of_reviews\"]]  \n",
    "\n",
    "sns.heatmap(product_reviews_df.corr(), annot=True)"
   ]
  }
 ],
 "metadata": {
  "kernelspec": {
   "display_name": "venv",
   "language": "python",
   "name": "python3"
  },
  "language_info": {
   "codemirror_mode": {
    "name": "ipython",
    "version": 3
   },
   "file_extension": ".py",
   "mimetype": "text/x-python",
   "name": "python",
   "nbconvert_exporter": "python",
   "pygments_lexer": "ipython3",
   "version": "3.11.2"
  }
 },
 "nbformat": 4,
 "nbformat_minor": 2
}
