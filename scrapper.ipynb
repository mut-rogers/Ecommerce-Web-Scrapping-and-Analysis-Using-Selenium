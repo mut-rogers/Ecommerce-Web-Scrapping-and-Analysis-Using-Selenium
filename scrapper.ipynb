{
 "cells": [
  {
   "cell_type": "code",
   "execution_count": 1,
   "metadata": {},
   "outputs": [],
   "source": [
    "from selenium import webdriver \n",
    "from selenium.webdriver.chrome.service import Service\n",
    "from selenium.webdriver.support import expected_conditions as EC\n",
    "from selenium.webdriver.support.ui import WebDriverWait \n",
    "from selenium.webdriver.common.by import By \n",
    "\n",
    "# Beautiful Soup \n",
    "from bs4 import BeautifulSoup\n",
    "\n",
    "# Automates downloading and setting up of Chrome Driver\n",
    "from webdriver_manager.chrome import ChromeDriverManager\n"
   ]
  },
  {
   "cell_type": "code",
   "execution_count": null,
   "metadata": {},
   "outputs": [],
   "source": [
    "def scrape_page(driver, current_url: str) -> list: \n",
    "    \"\"\"    \n",
    "    This functions scrapes a single webpage in a paginated website. \n",
    "\n",
    "    Args: \n",
    "    driver: \n",
    "    current_url:\n",
    "\n",
    "    Returns: List of products scraped from a single page\n",
    "    \"\"\" \n",
    "\n",
    "    pass \n",
    "\n",
    "def main(BASE_URL: str, num_pages: str): \n",
    "    \"\"\"   \n",
    "    This is the main function that will be used to scrape the entire website \n",
    "\n",
    "    \"\"\" \n",
    "    pass"
   ]
  },
  {
   "cell_type": "code",
   "execution_count": 12,
   "metadata": {},
   "outputs": [],
   "source": [
    "BASE_URL = \"https://www.kilimall.co.ke/category/shoes?id=968&form=category&page=55\"\n",
    "\n",
    "# Downloading and setting up Chrome Driver \n",
    "service = Service(ChromeDriverManager().install()) \n",
    "\n",
    "# initializing the webdriver \n",
    "driver = webdriver.Chrome(service=service) \n",
    "\n",
    "# Navigating to the website \n",
    "driver.get(BASE_URL) \n",
    "\n",
    "# Let the scrapper wait for 5 seconds to ensure page has fully loaded \n",
    "wait = WebDriverWait(driver, 5)\n",
    "wait.until(EC.presence_of_element_located((By.TAG_NAME, \"body\"))) \n",
    "\n",
    "# Access the HTML content \n",
    "html_markup = driver.page_source \n",
    "soup = BeautifulSoup(html_markup, \"html.parser\") \n",
    "\n",
    "# Get all the tags containing the products listing \n",
    "products_wrapper = soup.find_all(\"div\", {\"class\": \"listing-item\"})\n",
    "\n",
    "# Loop through the products_wrapper \n",
    "for product in products_wrapper: \n",
    "    product_name = product.find(\"div\", {\"class\": \"product-price\"}).text \n",
    "\n",
    "driver.quit()"
   ]
  },
  {
   "cell_type": "code",
   "execution_count": null,
   "metadata": {},
   "outputs": [],
   "source": []
  }
 ],
 "metadata": {
  "kernelspec": {
   "display_name": "venv",
   "language": "python",
   "name": "python3"
  },
  "language_info": {
   "codemirror_mode": {
    "name": "ipython",
    "version": 3
   },
   "file_extension": ".py",
   "mimetype": "text/x-python",
   "name": "python",
   "nbconvert_exporter": "python",
   "pygments_lexer": "ipython3",
   "version": "3.11.2"
  }
 },
 "nbformat": 4,
 "nbformat_minor": 2
}
