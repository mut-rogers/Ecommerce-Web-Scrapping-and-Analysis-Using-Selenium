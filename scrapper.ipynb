{
 "cells": [
  {
   "cell_type": "code",
   "execution_count": 71,
   "metadata": {},
   "outputs": [],
   "source": [
    "from selenium import webdriver \n",
    "from selenium.webdriver.chrome.service import Service\n",
    "from selenium.webdriver.support import expected_conditions as EC\n",
    "from selenium.webdriver.support.ui import WebDriverWait \n",
    "from selenium.webdriver.common.by import By \n",
    "from selenium.webdriver.chrome.options import Options\n",
    "\n",
    "from bs4 import BeautifulSoup\n",
    "\n",
    "# Automates downloading and setting up of Chrome Driver\n",
    "from webdriver_manager.chrome import ChromeDriverManager"
   ]
  },
  {
   "cell_type": "code",
   "execution_count": null,
   "metadata": {},
   "outputs": [],
   "source": [
    "PRODUCT_CATEGORIES = {\n",
    "    \"167\": \"clothes\",\n",
    "    \"1\": \"bags\"\n",
    "}\n",
    "\n",
    "# URL for the website.\n",
    "# product category and web page number will change on demand\n",
    "BASE_URL = \"https://www.kilimall.co.ke/category/{}?id={}&form=category&page={}\""
   ]
  },
  {
   "cell_type": "code",
   "execution_count": 72,
   "metadata": {},
   "outputs": [],
   "source": [
    "def scrape_page(driver, current_url: str, product_category: str) -> list: \n",
    "    \"\"\"    \n",
    "    This functions scrapes a single webpage in a paginated website. \n",
    "\n",
    "    Args: \n",
    "        driver: a webdriver oject\n",
    "        current_url: the url that will be visited by the driver\n",
    "\n",
    "    Returns: \n",
    "        List of products scraped from a single page/current_url\n",
    "    \"\"\" \n",
    "\n",
    "    driver.get(current_url) # Visit the web page \n",
    "\n",
    "    # wait for the page to fully load\n",
    "    wait = WebDriverWait(driver, 4)\n",
    "    wait.until(EC.presence_of_element_located((By.TAG_NAME, \"body\"))) \n",
    "\n",
    "    html_content = driver.page_source # Access the HTML source \n",
    "    \n",
    "    soup = BeautifulSoup(html_content, \"html.parser\") # Parse using Beautiful Soup \n",
    "\n",
    "    products_wrapper = soup.find_all(\"div\", {\"class\": \"listing-item\"}) # Access the products container \n",
    "\n",
    "    all_scrapped_products = list()\n",
    "\n",
    "    # Loop through the products_wrapper to access each product cantainer\n",
    "    # Then extract the prodcut information \n",
    "    for product in products_wrapper:\n",
    "\n",
    "        product_name = product.find(\"p\", {\"class\": \"product-title\"}).text \n",
    "\n",
    "        product_price = product.find(\"div\", {\"class\": \"product-price\"}).text\n",
    "\n",
    "        num_reviews = product.find(\"span\", {\"class\": \"reviews\"}).text\n",
    "\n",
    "        product_source = product.find(\"span\", {\"class\": \"tag-name\"}).text # Where the product was sourced: Locally or Shipped\n",
    "        \n",
    "        # Wrap the produce in a dictionary and append to the list\n",
    "        scrapped_product_dict = {\n",
    "            \"product_name\": product_name,\n",
    "            \"product_price\": product_price,\n",
    "            \"number_reviews\": num_reviews,\n",
    "            \"product_category\": product_category,\n",
    "            \"product_source\": product_source,\n",
    "        }\n",
    "         \n",
    "        all_scrapped_products.append(scrapped_product_dict) \n",
    "\n",
    "    return all_scrapped_products  "
   ]
  },
  {
   "cell_type": "code",
   "execution_count": 73,
   "metadata": {},
   "outputs": [
    {
     "name": "stdout",
     "output_type": "stream",
     "text": [
      "[{'product_name': '2pcs/Set Sexy lace Women Nightwear Nightgowns Nightdress Sleepwear Sleeping Night Dress Gowns Ladies Clothes', 'product_price': 'KSh 699', 'number_reviews': '(1646)', 'product_category': 'clothes', 'product_source': 'Fulfilled By Kilimall'}, {'product_name': 'Waist Trainer Slimming Belt Slim Body Shaper Corset Trimmer Sport Gym Fat Burner Elastic Shapewear Snug Fit Women Ladies Belly Slim Belt Band Body Building Sheath Flat Girdle Postpartum Control Wrap', 'product_price': 'KSh 379', 'number_reviews': '(5777)', 'product_category': 'clothes', 'product_source': 'Fulfilled By Kilimall'}, {'product_name': 'Waist Trainer Slimming Belt Slim Body Shaper Corset Trimmer Sport Gym Fat Burner Elastic Shapewear', 'product_price': 'KSh 259', 'number_reviews': '(1423)', 'product_category': 'clothes', 'product_source': 'Fulfilled By Kilimall'}, {'product_name': \"SXCHEN New Men's Shorts Casual Sports Five-point Pants Loose Breathable Man Quick-drying Large Pants Beach Pants Knee Length Shorts Fashion Cotton trousers Tide Boy Clothes Students Birthday Trousers\", 'product_price': 'KSh 539', 'number_reviews': '(598)', 'product_category': 'clothes', 'product_source': 'Fulfilled By Kilimall'}, {'product_name': \"2024  Women's Pajamas Satin The Big Size Long Sleeve Womens Pajamas  Lace Lingerie Nightwear Underwear Sleepwear 3PC Suit Pajama Sets  Nightgown Underwear Nightdress Suit\", 'product_price': 'KSh 899', 'number_reviews': '(214)', 'product_category': 'clothes', 'product_source': 'Fulfilled By Kilimall'}, {'product_name': '2 PCS 2 in 1 Men Clothes T-Shirts tshirts Shorts Polos Men Suits Fashion Summer Print Round Neck Short Sleeve Shorts T-Shirt Sets', 'product_price': 'KSh 899', 'number_reviews': '(353)', 'product_category': 'clothes', 'product_source': 'Fulfilled By Kilimall'}, {'product_name': \"3 In 1 Women's Pyjamas Shorts 3pcs Girl's Gym Yoga Home Yoga Beach Shorts Lady Clothing Women's Breathable Comfortable Bottoms\", 'product_price': 'KSh 999', 'number_reviews': '(324)', 'product_category': 'clothes', 'product_source': 'Fulfilled By Kilimall'}, {'product_name': 'Solid Color Lightweight Trendy Women Jumpsuit Camis Sleeveless Playsuit Romper One Size Fits 8-14 (28-34) Casual Black Flare Leggings Wide Leg Bottom', 'product_price': 'KSh 799', 'number_reviews': '(10)', 'product_category': 'clothes', 'product_source': 'Local Dispatch'}, {'product_name': 'Waist Trainer Slimming Belt Slim Body Shaper Corset Trimmer Sport Gym Fat Burner Elastic Shapewear Women Ladies Tummy Belly Slim Belt Band Body Building Sheath Flat Girdle Postpartum Control Wrap', 'product_price': 'KSh 469', 'number_reviews': '(3475)', 'product_category': 'clothes', 'product_source': 'Fulfilled By Kilimall'}, {'product_name': '3 PCS Tshirts Women T-shirts 3 in 1 tshirts Women Clothes Shirts Women Tops Lady Wear shirts Africa Queen On Sale New Arrival', 'product_price': 'KSh 999', 'number_reviews': '(161)', 'product_category': 'clothes', 'product_source': 'Fulfilled By Kilimall'}, {'product_name': \"5Pcs Men's Socks Men's medium socks Men's autumn and winter sports socks Men's cotton socks\", 'product_price': 'KSh 569', 'number_reviews': '(245)', 'product_category': 'clothes', 'product_source': 'Fulfilled By Kilimall'}, {'product_name': '4 Pack Men’s Breathable Underwear Fashion Underwear Boxer Briefs Soft stretch comfortable Polyester fabric China  size Buy a larger size than usual', 'product_price': 'KSh 689', 'number_reviews': '(994)', 'product_category': 'clothes', 'product_source': 'Fulfilled By Kilimall'}, {'product_name': 'Women fashion cloth lady lingerie backless adjustable bra', 'product_price': 'KSh 399', 'number_reviews': '(690)', 'product_category': 'clothes', 'product_source': 'Fulfilled By Kilimall'}, {'product_name': 'Dropshipping Silicone Padded Forefoot Insoles Shoes Pad Gel Insoles Breathable Health Shoe Care', 'product_price': 'KSh 179', 'number_reviews': '(256)', 'product_category': 'clothes', 'product_source': 'Fulfilled By Kilimall'}, {'product_name': '6Pcs New Arrival New Style Pattern Lace High Waist Abdomen Hip Raise High Elasticity Ladies Panties', 'product_price': 'KSh 199', 'number_reviews': '(934)', 'product_category': 'clothes', 'product_source': 'Fulfilled By Kilimall'}, {'product_name': \"5 Pairs Women's Socks Cotton Socks Women's Clothing Ultra-thin Socks Women's Socks Thin Breathable Socks\", 'product_price': 'KSh 284', 'number_reviews': '(175)', 'product_category': 'clothes', 'product_source': 'Fulfilled By Kilimall'}, {'product_name': \"Women's Multi-Size Soft And Comfortable Fabric Letter Three Point Cute Bikini Swimsuit Lingerie Sets\", 'product_price': 'KSh 319', 'number_reviews': '(418)', 'product_category': 'clothes', 'product_source': 'Fulfilled By Kilimall'}, {'product_name': '2 pieces Heel Protector Protective Sleeve Heel Spur Pads for Relief Plantar  Hosiery', 'product_price': 'KSh 229', 'number_reviews': '(271)', 'product_category': 'clothes', 'product_source': 'Fulfilled By Kilimall'}, {'product_name': '2 PCS 2 in 1 T-shirts Men tshirts Shorts Men Clothes Polos Tops T-shirts&Shorts Casual Apparel Sports Appare', 'product_price': 'KSh 859', 'number_reviews': '(509)', 'product_category': 'clothes', 'product_source': 'Fulfilled By Kilimall'}, {'product_name': 'Mango Silicone Chest Stickers Push Up Bra Self Adhesive Bra Invisible Cover Bra Pad Sexy Strapless Breast Petals', 'product_price': 'KSh 358', 'number_reviews': '(180)', 'product_category': 'clothes', 'product_source': 'Fulfilled By Kilimall'}, {'product_name': 'Keconutbear Fashion EVA Children Raincoat Thickened Waterproof Rain Coat Kids Clear Others blue', 'product_price': 'KSh 279', 'number_reviews': '(233)', 'product_category': 'clothes', 'product_source': 'Fulfilled By Kilimall'}, {'product_name': \"Blouses Smooth Cut Plus-Size Women's White Chiffon Shirt Fashion Commuter Striped Print Casual Long-Sleeved Top\", 'product_price': 'KSh 699', 'number_reviews': '(225)', 'product_category': 'clothes', 'product_source': 'Fulfilled By Kilimall'}, {'product_name': '2024 Spring and autumn new round neck slim dress retro abstract print with dress long sleeve skirt', 'product_price': 'KSh 809', 'number_reviews': '(2)', 'product_category': 'clothes', 'product_source': 'Oversea Shipment'}, {'product_name': \"2024 new children's short-sleeved suit striped girls and boys t summer baby baby clothes Korean version of children's wear\", 'product_price': 'KSh 799', 'number_reviews': '(0)', 'product_category': 'clothes', 'product_source': 'Oversea Shipment'}, {'product_name': 'Summer Nightdress Cartoon Nightwear Milk Silk Sleepwear For Women', 'product_price': 'KSh 399', 'number_reviews': '(0)', 'product_category': 'clothes', 'product_source': 'Local Dispatch'}, {'product_name': 'SXCHEN 4 Pack Men Underwear Boxer Pants Plus Size Pants Boxer Briefs Fashion Man Flat Underwear Male Premium Soft comfortable Panties Student Men&apos;s Briefs Student Boy Air force Sports', 'product_price': 'KSh 539', 'number_reviews': '(500)', 'product_category': 'clothes', 'product_source': 'Fulfilled By Kilimall'}, {'product_name': \"5 Pairs of socks Women's socks Black and white cow cartoon Female socks Boat socks Cute socks\", 'product_price': 'KSh 474', 'number_reviews': '(56)', 'product_category': 'clothes', 'product_source': 'Fulfilled By Kilimall'}, {'product_name': \"Fashion 5 Pack Men's Official Shirt Professional Wear Classic and Casual Long-Sleeve Button-down Shirt, Available In Different Colors. Slim Fit Designed For Both Style And Comfort\", 'product_price': 'KSh 4,199', 'number_reviews': '(9)', 'product_category': 'clothes', 'product_source': 'Local Dispatch'}, {'product_name': '3 PCS/Sets tshirt T-shirt Men Polo Shirt Men Clothes Men Wear Men Suit Men Coat Short Sleeve', 'product_price': 'KSh 1,099', 'number_reviews': '(745)', 'product_category': 'clothes', 'product_source': 'Fulfilled By Kilimall'}, {'product_name': \"4pcs Baby Girl Children's Underwear Panties Cotton Boxer Kid's Brief Princess Print Breathable Soft Comfortable Children Underwear For 3-12T\", 'product_price': 'KSh 629', 'number_reviews': '(5)', 'product_category': 'clothes', 'product_source': 'Fulfilled By Kilimall'}, {'product_name': \"SXCHEN New Men's Lion Suit Sweater + Pants Fashion Personality Creativity Boy Hooded Suit Casual Clothes The King Autumn and Winter Hooded Sweater Set Men's Sportswear Dad Sweater Pants Set\", 'product_price': 'KSh 1,799', 'number_reviews': '(101)', 'product_category': 'clothes', 'product_source': 'Fulfilled By Kilimall'}, {'product_name': 'Elegant  Women  Dress  Casual Evening Party Ladies Dresses Girl Clothes Fast delivery within 1-5 days', 'product_price': 'KSh 980', 'number_reviews': '(189)', 'product_category': 'clothes', 'product_source': 'Fulfilled By Kilimall'}, {'product_name': 'The polo neck hoodie is a fashion trend for men in spring and fall (The size is too small/it is recommended to make it one size larger)', 'product_price': 'KSh 599', 'number_reviews': '(326)', 'product_category': 'clothes', 'product_source': 'Fulfilled By Kilimall'}, {'product_name': 'Cross border fast selling popular cardigan sweater thickened warm Jackets & Coats', 'product_price': 'KSh 1,399', 'number_reviews': '(239)', 'product_category': 'clothes', 'product_source': 'Fulfilled By Kilimall'}, {'product_name': 'JC Baby Boys Clothes kidsTee Shirt Cartoon pure cotton Short Sleeve T-Shirts Tops Kids dress wear Clothes  suit short sleeve 0-5 years', 'product_price': 'KSh 599', 'number_reviews': '(211)', 'product_category': 'clothes', 'product_source': 'Fulfilled By Kilimall'}, {'product_name': 'Women Strapless Ruched Push Up Bra Padded Hollow Out Backless Wireless Underwear Bandeau Thread Ribbed Adjustabable Bralette Lingerie', 'product_price': 'KSh 389', 'number_reviews': '(515)', 'product_category': 'clothes', 'product_source': 'Fulfilled By Kilimall'}, {'product_name': 'Women Backpack & Small Bag Set Laptop Bag For Women Large Capacity Schoolbag Fashion Backpack Multi-functional Bag', 'product_price': 'KSh 679', 'number_reviews': '(145)', 'product_category': 'bags', 'product_source': 'Fulfilled By Kilimall'}, {'product_name': '4 Sets/PCS Bags Handbags For Ladies Women Bags Lady Bags Purse Clutch Shoulder Bags Lady Purse Wallet', 'product_price': 'KSh 819', 'number_reviews': '(2312)', 'product_category': 'bags', 'product_source': 'Fulfilled By Kilimall'}, {'product_name': \"New Arrivals Ladies Bag Fashion Bag Women's Casual Trend Shoulder Bag Tote Bag Women Handbags Ladies Shoulder Bags\", 'product_price': 'KSh 579', 'number_reviews': '(764)', 'product_category': 'bags', 'product_source': 'Fulfilled By Kilimall'}, {'product_name': '4pcs Ladies Bag Set Women Handbags Shoulder Tote Sling Bags PU Leather Waterproof Kings Fashion', 'product_price': 'KSh 819', 'number_reviews': '(4284)', 'product_category': 'bags', 'product_source': 'Fulfilled By Kilimall'}, {'product_name': 'Female handbag waterproof shoulder bag female bag popular simple solid color large capacity Oxford cloth bag Tote Bags', 'product_price': 'KSh 949', 'number_reviews': '(317)', 'product_category': 'bags', 'product_source': 'Fulfilled By Kilimall'}, {'product_name': 'FBK Women fashion small square bag frosted tassel chain phone sling bags shoulder mini lady handbags for ladies gift', 'product_price': 'KSh 399', 'number_reviews': '(1397)', 'product_category': 'bags', 'product_source': 'Fulfilled By Kilimall'}, {'product_name': 'Men Leather Wallet Male Genuine Purse Money Clip Bag Short Small Credit Card Holder Coin Pouch Gift', 'product_price': 'KSh 399', 'number_reviews': '(3516)', 'product_category': 'bags', 'product_source': 'Fulfilled By Kilimall'}, {'product_name': \"Summer new personality single shoulder cross sling bags span lady's small handbags for women gift\", 'product_price': 'KSh 529', 'number_reviews': '(1097)', 'product_category': 'bags', 'product_source': 'Fulfilled By Kilimall'}, {'product_name': 'Lady handbags new arrival portable hot stamping chain small handbags leisure simple  crossbody bags for women', 'product_price': 'KSh 399', 'number_reviews': '(420)', 'product_category': 'bags', 'product_source': 'Fulfilled By Kilimall'}, {'product_name': 'New Multi-Pocket Shoulder Bags PU Leather Ladies Bags Purses Handbags Women Sling Bags Office Messenger Bags Gift Sales', 'product_price': 'KSh 899', 'number_reviews': '(537)', 'product_category': 'bags', 'product_source': 'Fulfilled By Kilimall'}, {'product_name': '4 PCS/Sets Handbags Backpack For Women Bags Ladies Bags Bookbags School Bags Nylon Cloth Clutch Purse Wallet', 'product_price': 'KSh 859', 'number_reviews': '(1038)', 'product_category': 'bags', 'product_source': 'Fulfilled By Kilimall'}, {'product_name': 'Multifunction ladies sling bags Elegant fashion black pink white durable chain shoulder handbags for women gift', 'product_price': 'KSh 399', 'number_reviews': '(1149)', 'product_category': 'bags', 'product_source': 'Fulfilled By Kilimall'}, {'product_name': 'Women Long Wallet Ladies Coin Purse Tri-fold Wallet Card Case Black Wallet', 'product_price': 'KSh 299', 'number_reviews': '(62)', 'product_category': 'bags', 'product_source': 'Fulfilled By Kilimall'}, {'product_name': 'New arrival ins fashion simple single shoulder sling handbags for women  gift', 'product_price': 'KSh 399', 'number_reviews': '(607)', 'product_category': 'bags', 'product_source': 'Fulfilled By Kilimall'}, {'product_name': \"New Arrivals Men's bag new large capacity single shoulder bag Pu business men's messenger bag men's single shoulder Backpack\", 'product_price': 'KSh 695', 'number_reviews': '(329)', 'product_category': 'bags', 'product_source': 'Fulfilled By Kilimall'}, {'product_name': \"New arrival Ladies Shoulder Bags Ladies Bag Fashion Bag Women's Casual Trend Shoulder Bag Tote Bag Women Handbags\", 'product_price': 'KSh 579', 'number_reviews': '(326)', 'product_category': 'bags', 'product_source': 'Fulfilled By Kilimall'}, {'product_name': '16 Inch Laptops Backpack USB Business School Bags Anti-Theft Men Women Travel Rucksacks', 'product_price': 'KSh 829', 'number_reviews': '(2509)', 'product_category': 'bags', 'product_source': 'Fulfilled By Kilimall'}, {'product_name': '\\u200bNew Arrivals Men Fashion Multifunction Shoulder Bag Crossbody Bag On Shoulder Sling Bag Pack Messenger Pack Chest Bag For Male', 'product_price': 'KSh 349', 'number_reviews': '(254)', 'product_category': 'bags', 'product_source': 'Fulfilled By Kilimall'}, {'product_name': '2Pcs/Set Large Size Women Handbag Lady PU Leather Shoulder Bag Ladies Handbags Sling Bags Hand Bags For Ladies Casual Soft Gift Big', 'product_price': 'KSh 569', 'number_reviews': '(2966)', 'product_category': 'bags', 'product_source': 'Fulfilled By Kilimall'}, {'product_name': '15.6\" Laptop Bag Men Backpack With USB Charging Jack Large Capacity Backpack', 'product_price': 'KSh 829', 'number_reviews': '(312)', 'product_category': 'bags', 'product_source': 'Fulfilled By Kilimall'}, {'product_name': '15.6 Inch Laptop Bag Notebook Cases Laptop Sleeves Handbag Briefcase', 'product_price': 'KSh 649', 'number_reviews': '(23)', 'product_category': 'bags', 'product_source': 'Fulfilled By Kilimall'}, {'product_name': 'Soft Leather Women Bag Branded Designer Ladies Handbag Purses 2024 Luxury Female Shoulder Bag Large Capacity Crossbody Bags', 'product_price': 'KSh 999', 'number_reviews': '(72)', 'product_category': 'bags', 'product_source': 'Fulfilled By Kilimall'}, {'product_name': 'Men Laptop Backpack Bag Set Rucksack Travel Bag With USB Jack Large Capacity School Bag', 'product_price': 'KSh 989', 'number_reviews': '(341)', 'product_category': 'bags', 'product_source': 'Fulfilled By Kilimall'}, {'product_name': 'Small bags new plain wrist chain small square ladies fashion bag leisure handbags for women gift', 'product_price': 'KSh 379', 'number_reviews': '(776)', 'product_category': 'bags', 'product_source': 'Fulfilled By Kilimall'}, {'product_name': 'Women shoulder bag messenger bag Girl casual Handbag Ladies bags Fast delivery within 1-5 days', 'product_price': 'KSh 990', 'number_reviews': '(307)', 'product_category': 'bags', 'product_source': 'Fulfilled By Kilimall'}, {'product_name': \"New large capacity men's shoulder bag, waterproof and wear-resistant backpack, multi pocket business and leisure men's crossbody bag\", 'product_price': 'KSh 799', 'number_reviews': '(44)', 'product_category': 'bags', 'product_source': 'Fulfilled By Kilimall'}, {'product_name': \"Male PU leather single shoulder bag fashion shoulder bag  business bag men's crossbody bag business cross-body sling bag\", 'product_price': 'KSh 899', 'number_reviews': '(151)', 'product_category': 'bags', 'product_source': 'Fulfilled By Kilimall'}, {'product_name': '1506 School Bags Men Bags Waterproof Business Backpack Large Capacity Laptops Bag Student Bag Travel Bag Backpacks', 'product_price': 'KSh 599', 'number_reviews': '(13)', 'product_category': 'bags', 'product_source': 'Fulfilled By Kilimall'}, {'product_name': 'Men Backpack Large Capacity Outdoor Travel Bag Leisure Rucksack Business Commute Laptop Bag School', 'product_price': 'KSh 985', 'number_reviews': '(312)', 'product_category': 'bags', 'product_source': 'Fulfilled By Kilimall'}, {'product_name': 'Backpacks Men Bags 3 PCS School Bags Bookbags USB Laptop Bags Notebook Bag Travel Bag Anti-Theft Leisure Nylon Cloth Bags Medium Size', 'product_price': 'KSh 1,099', 'number_reviews': '(142)', 'product_category': 'bags', 'product_source': 'Fulfilled By Kilimall'}, {'product_name': \"Charging port Men's chest bag New PU shoulder bag Tidy leisure backpack messenger bag Charging port Men's chest bag  New PU leisure backpack messenger bag   Messenger & Shoulder Bags\", 'product_price': 'KSh 499', 'number_reviews': '(202)', 'product_category': 'bags', 'product_source': 'Fulfilled By Kilimall'}, {'product_name': 'New Plush Love Handbag Crossbody Bag Fashion Peach Heart Chain Bag Single Shoulder Bag Crossbody Bag Heart shaped Bag Gifts to Girlfriends', 'product_price': 'KSh 499', 'number_reviews': '(120)', 'product_category': 'bags', 'product_source': 'Fulfilled By Kilimall'}, {'product_name': 'Embossed shoulder bag summer trend stone print hand Underarm bag for women handbags', 'product_price': 'KSh 474', 'number_reviews': '(155)', 'product_category': 'bags', 'product_source': 'Fulfilled By Kilimall'}, {'product_name': 'Handbags for Ladies Shoulder Sling Bags Crossbody Women Messenger Bag Classic PU Leather Waterproof', 'product_price': 'KSh 718', 'number_reviews': '(435)', 'product_category': 'bags', 'product_source': 'Fulfilled By Kilimall'}, {'product_name': \"New Arrival 1PCS Men's Casual Canvas Chest Bag USB Smart Shoulder Bag Canvas Men's Chest Bag\", 'product_price': 'KSh 399', 'number_reviews': '(62)', 'product_category': 'bags', 'product_source': 'Fulfilled By Kilimall'}, {'product_name': 'New arrival simple chain bag new fashion diamond lattice shell scene sling handbags for women gift', 'product_price': 'KSh 459', 'number_reviews': '(174)', 'product_category': 'bags', 'product_source': 'Fulfilled By Kilimall'}]\n"
     ]
    }
   ],
   "source": [
    "def main(BASE_URL: str, num_pages: str): \n",
    "    \"\"\"   \n",
    "    This is the main function that will be used to scrape the entire website. \n",
    "\n",
    "    Args: \n",
    "        BASE_URL: The url of the website to be scrapped. Contains the URL that will dynamically change due to pagination and search parameters such as product category \n",
    "\n",
    "        num_pages: The number of pages to be scrapped on the specified website.\n",
    "     \n",
    "    Returns: \n",
    "        A final list containing a dictionary of products scrapped from the entire website\n",
    "    \"\"\" \n",
    "\n",
    "    # Set up the use of headless Chrome - No UI \n",
    "    chrome_browser_options = Options()\n",
    "    chrome_browser_options.add_argument(\"--headless\")\n",
    "\n",
    "    service = Service(ChromeDriverManager().install()) # Set up Chrome driver\n",
    "\n",
    "    driver = webdriver.Chrome(service=service, options=chrome_browser_options) # Create a webdriver object\n",
    "\n",
    "    current_page_nummber = 1 # Page Counter. Tracks the current web page being scrapped\n",
    "\n",
    "    all_products = list() # list of dicts To store the scrapped products\n",
    "\n",
    "    for category_id, category_name in PRODUCT_CATEGORIES.items(): # Scrapping each product category at a time\n",
    "\n",
    "        while current_page_nummber <= num_pages: # Ensure we don't access pages out of range\n",
    "\n",
    "            current_url = BASE_URL.format(category_name, category_id, current_page_nummber) \n",
    "\n",
    "            current_products_sublist = scrape_page(driver, current_url, category_name) \n",
    "\n",
    "            all_products.extend(current_products_sublist) # Add this products to the final list of products\n",
    "\n",
    "            current_page_nummber += 1 # Update the counter to next page\n",
    "\n",
    "        current_page_nummber = 1 # Reset the count after switching to new product categories\n",
    "\n",
    "    driver.quit() # Close the driver once done \n",
    "\n",
    "    return all_products"
   ]
  },
  {
   "cell_type": "code",
   "execution_count": null,
   "metadata": {},
   "outputs": [],
   "source": [
    "if __name__ == \"__main__\":\n",
    "    products = main(BASE_URL, 1)\n",
    "    print(products)"
   ]
  }
 ],
 "metadata": {
  "kernelspec": {
   "display_name": "venv",
   "language": "python",
   "name": "python3"
  },
  "language_info": {
   "codemirror_mode": {
    "name": "ipython",
    "version": 3
   },
   "file_extension": ".py",
   "mimetype": "text/x-python",
   "name": "python",
   "nbconvert_exporter": "python",
   "pygments_lexer": "ipython3",
   "version": "3.11.2"
  }
 },
 "nbformat": 4,
 "nbformat_minor": 2
}
