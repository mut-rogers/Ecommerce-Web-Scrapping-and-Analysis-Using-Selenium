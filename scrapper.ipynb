{
 "cells": [
  {
   "cell_type": "code",
   "execution_count": 1,
   "metadata": {},
   "outputs": [],
   "source": [
    "from selenium import webdriver \n",
    "from selenium.webdriver.chrome.service import Service\n",
    "from selenium.webdriver.support import expected_conditions as EC\n",
    "from selenium.webdriver.support.ui import WebDriverWait \n",
    "from selenium.webdriver.common.by import By \n",
    "\n",
    "# Beautiful Soup \n",
    "from bs4 import BeautifulSoup\n",
    "\n",
    "# Automates downloading and setting up of Chrome Driver\n",
    "from webdriver_manager.chrome import ChromeDriverManager\n"
   ]
  },
  {
   "cell_type": "code",
   "execution_count": 7,
   "metadata": {},
   "outputs": [
    {
     "name": "stdout",
     "output_type": "stream",
     "text": [
      "KSh 500\n",
      "KSh 750\n",
      "KSh 1,299\n",
      "KSh 2,580\n",
      "KSh 1,899\n",
      "KSh 3,300\n",
      "KSh 799\n",
      "KSh 1,555\n",
      "KSh 2,200\n",
      "KSh 2,400\n",
      "KSh 1,794\n",
      "KSh 799\n",
      "KSh 4,099\n",
      "KSh 779\n",
      "KSh 1,699\n",
      "KSh 1,900\n",
      "KSh 1,999\n",
      "KSh 2,000\n",
      "KSh 999\n",
      "KSh 1,299\n",
      "KSh 1,949\n",
      "KSh 899\n",
      "KSh 294\n",
      "KSh 3,899\n",
      "KSh 294\n",
      "KSh 1,099\n",
      "KSh 2,399\n",
      "KSh 788\n",
      "KSh 2,489\n",
      "KSh 1,199\n",
      "KSh 1,499\n",
      "KSh 1,499\n",
      "KSh 1,394\n",
      "KSh 2,759\n",
      "KSh 3,488\n",
      "KSh 2,499\n"
     ]
    }
   ],
   "source": [
    "BASE_URL = \"https://www.kilimall.co.ke/category/shoes?id=968&form=category&page=55\"\n",
    "\n",
    "# Downloading and setting up Chrome Driver \n",
    "service = Service(ChromeDriverManager().install()) \n",
    "\n",
    "# initializing the webdriver \n",
    "driver = webdriver.Chrome(service=service) \n",
    "\n",
    "# Navigating to the website \n",
    "driver.get(BASE_URL) \n",
    "\n",
    "# Let the scrapper wait for 5 seconds to ensure page has fully loaded \n",
    "wait = WebDriverWait(driver, 5)\n",
    "wait.until(EC.presence_of_element_located((By.TAG_NAME, \"body\"))) \n",
    "\n",
    "# Access the HTML content \n",
    "html_markup = driver.page_source \n",
    "soup = BeautifulSoup(html_markup, \"html.parser\") \n",
    "\n",
    "# Get all the tags containing the products listing \n",
    "products_wrapper = soup.find_all(\"div\", {\"class\": \"listing-item\"})\n",
    "\n",
    "# Loop through the products_wrapper \n",
    "for product in products_wrapper: \n",
    "    product_name = product.find(\"div\", {\"class\": \"product-price\"}).text \n",
    "\n",
    "# Access the next page link \n",
    "next_page_link = driver.find_element((By.CLASS_NAME, \"van-pagination__item van-pagination__item--next van-hairline--surround\"))\n",
    "\n",
    "driver.quit()"
   ]
  },
  {
   "cell_type": "code",
   "execution_count": null,
   "metadata": {},
   "outputs": [],
   "source": []
  }
 ],
 "metadata": {
  "kernelspec": {
   "display_name": "venv",
   "language": "python",
   "name": "python3"
  },
  "language_info": {
   "codemirror_mode": {
    "name": "ipython",
    "version": 3
   },
   "file_extension": ".py",
   "mimetype": "text/x-python",
   "name": "python",
   "nbconvert_exporter": "python",
   "pygments_lexer": "ipython3",
   "version": "3.11.2"
  }
 },
 "nbformat": 4,
 "nbformat_minor": 2
}
